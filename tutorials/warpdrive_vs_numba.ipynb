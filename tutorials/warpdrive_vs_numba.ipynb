{
 "cells": [
  {
   "cell_type": "code",
   "execution_count": 1,
   "id": "15466506",
   "metadata": {},
   "outputs": [],
   "source": [
    "from numba import cuda\n",
    "import numpy as np\n",
    "from timeit import Timer"
   ]
  },
  {
   "cell_type": "code",
   "execution_count": 2,
   "id": "e0e1ee43",
   "metadata": {},
   "outputs": [],
   "source": [
    "@cuda.jit\n",
    "def increment_data(data_arr):\n",
    "    blockIdx = cuda.blockIdx.x\n",
    "    blockDim = cuda.blockDim.x\n",
    "    threadIdx = cuda.threadIdx.x\n",
    "    # Compute flattened index inside the array\n",
    "    pos = blockIdx * blockDim + threadIdx\n",
    "    if threadIdx < blockDim:\n",
    "        data_arr[pos] += (blockIdx + threadIdx)"
   ]
  },
  {
   "cell_type": "code",
   "execution_count": 3,
   "id": "b766afff",
   "metadata": {},
   "outputs": [],
   "source": [
    "def push_random_data_and_increment_timer(\n",
    "    num_runs,\n",
    "    num_envs,\n",
    "    num_agents\n",
    "):\n",
    "    blocksPerGrid = num_envs\n",
    "    threadsPerBlock = num_agents\n",
    "    cuda.gridDim = (num_envs,)\n",
    "    cuda.blockDim = (num_agents,)\n",
    "    \n",
    "    def push_random_data(num_agents, num_envs, device_data):\n",
    "        random_data = np.random.rand(num_envs, num_agents)\n",
    "\n",
    "        # Flatten in \"C\" order\n",
    "        flattened_random_data = random_data.astype(np.float32).flatten(order=\"C\")\n",
    "        \n",
    "        device_data[\"random_data\"] = cuda.to_device(\n",
    "            flattened_random_data\n",
    "        )\n",
    "        return device_data\n",
    "      \n",
    "    device_data = {}\n",
    "    data_push_time = Timer(\n",
    "        lambda: push_random_data(num_agents, num_envs, device_data)\n",
    "    ).timeit(number=num_runs)\n",
    "    program_run_time = Timer(\n",
    "        lambda: increment_data[blocksPerGrid, threadsPerBlock](\n",
    "            cuda.as_cuda_array(device_data[\"random_data\"]))\n",
    "    ).timeit(number=num_runs)\n",
    "\n",
    "    return {\n",
    "        \"data push times\": data_push_time,\n",
    "        \"code run time\": program_run_time\n",
    "    }"
   ]
  },
  {
   "cell_type": "code",
   "execution_count": 4,
   "id": "558447bd",
   "metadata": {},
   "outputs": [
    {
     "name": "stderr",
     "output_type": "stream",
     "text": [
      "/home/sunil/miniconda/lib/python3.7/site-packages/numba/cuda/compiler.py:865: NumbaPerformanceWarning: Grid size (1) < 2 * SM count (216) will likely result in GPU under utilization due to low occupancy.\n",
      "  warn(NumbaPerformanceWarning(msg))\n",
      "/home/sunil/miniconda/lib/python3.7/site-packages/numba/cuda/compiler.py:865: NumbaPerformanceWarning: Grid size (1) < 2 * SM count (216) will likely result in GPU under utilization due to low occupancy.\n",
      "  warn(NumbaPerformanceWarning(msg))\n",
      "/home/sunil/miniconda/lib/python3.7/site-packages/numba/cuda/compiler.py:865: NumbaPerformanceWarning: Grid size (100) < 2 * SM count (216) will likely result in GPU under utilization due to low occupancy.\n",
      "  warn(NumbaPerformanceWarning(msg))\n"
     ]
    },
    {
     "name": "stdout",
     "output_type": "stream",
     "text": [
      "Times for 100 function calls\n",
      "****************************************\n",
      "envs=1, agents=1              : mean data push times:    0.15361s,\t mean increment times:    0.31087s\n",
      "envs=1, agents=100            : mean data push times:   0.027738s,\t mean increment times:   0.013628s\n",
      "envs=1, agents=1000           : mean data push times:   0.028772s,\t mean increment times:    0.01363s\n",
      "envs=100, agents=1000         : mean data push times:    0.13333s,\t mean increment times:   0.013784s\n",
      "envs=1000, agents=1000        : mean data push times:     1.4457s,\t mean increment times:   0.012887s\n"
     ]
    }
   ],
   "source": [
    "num_runs = 100\n",
    "times = {}\n",
    "\n",
    "for scenario in [\n",
    "    (1, 1),\n",
    "    (1, 100),\n",
    "    (1, 1000),\n",
    "    (100, 1000),\n",
    "    (1000, 1000)\n",
    "]:\n",
    "    num_envs, num_agents = scenario\n",
    "    times.update(\n",
    "        {\n",
    "            f\"envs={num_envs}, agents={num_agents}\":\n",
    "            push_random_data_and_increment_timer(\n",
    "                num_runs,\n",
    "                num_envs,\n",
    "                num_agents,\n",
    "            )            \n",
    "        }\n",
    "    )\n",
    "    \n",
    "print(f\"Times for {num_runs} function calls\")\n",
    "print(\"*\"*40)\n",
    "for key, value in times.items():\n",
    "    print(f\"{key:30}: mean data push times: {value['data push times']:10.5}s,\\t mean increment times: {value['code run time']:10.5}s\")    "
   ]
  },
  {
   "cell_type": "markdown",
   "id": "06580187",
   "metadata": {},
   "source": [
    "WarpDrive times\n",
    "\n",
    "```\n",
    "Times for 100 function calls\n",
    "****************************************\n",
    "envs=1, agents=1              : mean data push times:   0.025804s,\t mean increment times:  0.0012021s\n",
    "envs=1, agents=100            : mean data push times:   0.027073s,\t mean increment times:  0.0012057s\n",
    "envs=1, agents=1000           : mean data push times:   0.026155s,\t mean increment times:   0.001203s\n",
    "envs=100, agents=1000         : mean data push times:    0.12081s,\t mean increment times:  0.0011974s\n",
    "envs=1000, agents=1000        : mean data push times:    0.98343s,\t mean increment times:  0.0012207s\n",
    "```"
   ]
  },
  {
   "cell_type": "code",
   "execution_count": null,
   "id": "8fc3a4a3",
   "metadata": {},
   "outputs": [],
   "source": []
  }
 ],
 "metadata": {
  "kernelspec": {
   "display_name": "Python 3 (ipykernel)",
   "language": "python",
   "name": "python3"
  },
  "language_info": {
   "codemirror_mode": {
    "name": "ipython",
    "version": 3
   },
   "file_extension": ".py",
   "mimetype": "text/x-python",
   "name": "python",
   "nbconvert_exporter": "python",
   "pygments_lexer": "ipython3",
   "version": "3.7.2"
  }
 },
 "nbformat": 4,
 "nbformat_minor": 5
}
